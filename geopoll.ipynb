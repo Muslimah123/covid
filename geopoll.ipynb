{
 "cells": [
  {
   "cell_type": "code",
   "execution_count": 1,
   "id": "initial_id",
   "metadata": {
    "collapsed": true,
    "ExecuteTime": {
     "end_time": "2023-09-24T20:40:58.523640700Z",
     "start_time": "2023-09-24T20:40:58.177740400Z"
    }
   },
   "outputs": [],
   "source": [
    "import pandas as pd\n",
    "import warnings"
   ]
  },
  {
   "cell_type": "code",
   "execution_count": 3,
   "outputs": [
    {
     "name": "stdout",
     "output_type": "stream",
     "text": [
      "<class 'pandas.core.frame.DataFrame'>\n",
      "RangeIndex: 2400 entries, 0 to 2399\n",
      "Data columns (total 29 columns):\n",
      " #   Column                 Non-Null Count  Dtype  \n",
      "---  ------                 --------------  -----  \n",
      " 0   Survey Id              2400 non-null   int64  \n",
      " 1   Country                2400 non-null   object \n",
      " 2   Age Group              2400 non-null   object \n",
      " 3   Gender                 2400 non-null   object \n",
      " 4   Employment             2400 non-null   object \n",
      " 5   Career                 1064 non-null   object \n",
      " 6   Income                 2400 non-null   object \n",
      " 7   IncomeChange           2400 non-null   object \n",
      " 8   Expenses               2400 non-null   float64\n",
      " 9   FoodSpending           2400 non-null   object \n",
      " 10  FoodDecrease           1103 non-null   object \n",
      " 11  FoodIncrease           1002 non-null   object \n",
      " 12  Non-EssentialSpending  2400 non-null   object \n",
      " 13  Non-EssentialDecrease  1432 non-null   object \n",
      " 14  Non-EssentialIncrease  508 non-null    object \n",
      " 15  Optimistic             2399 non-null   float64\n",
      " 16  MobileMoney            2400 non-null   object \n",
      " 17  VaccineInfo            2400 non-null   object \n",
      " 18  Likelihood             2400 non-null   object \n",
      " 19  Reason                 1238 non-null   float64\n",
      " 20  Reason2                1238 non-null   object \n",
      " 21  VaccinePublic          2400 non-null   object \n",
      " 22  CovidConcern           2400 non-null   object \n",
      " 23  CovidRoutines          2400 non-null   object \n",
      " 24  Mask                   2400 non-null   object \n",
      " 25  HealthPhysical         2400 non-null   object \n",
      " 26  HealthEmotional        2400 non-null   object \n",
      " 27  Socialize              2400 non-null   object \n",
      " 28  Government             2400 non-null   object \n",
      "dtypes: float64(3), int64(1), object(25)\n",
      "memory usage: 543.9+ KB\n"
     ]
    }
   ],
   "source": [
    "warnings.filterwarnings(\"ignore\", category=UserWarning, module=\"openpyxl\")\n",
    "data=pd.read_excel(\"geopoll.xlsx\")\n",
    "data.info()"
   ],
   "metadata": {
    "collapsed": false,
    "ExecuteTime": {
     "end_time": "2023-09-24T20:41:22.302368100Z",
     "start_time": "2023-09-24T20:41:21.960570400Z"
    }
   },
   "id": "e866105fdd6aadb1"
  },
  {
   "cell_type": "code",
   "execution_count": null,
   "outputs": [],
   "source": [],
   "metadata": {
    "collapsed": false
   },
   "id": "8852fa652b06f868"
  }
 ],
 "metadata": {
  "kernelspec": {
   "display_name": "Python 3",
   "language": "python",
   "name": "python3"
  },
  "language_info": {
   "codemirror_mode": {
    "name": "ipython",
    "version": 2
   },
   "file_extension": ".py",
   "mimetype": "text/x-python",
   "name": "python",
   "nbconvert_exporter": "python",
   "pygments_lexer": "ipython2",
   "version": "2.7.6"
  }
 },
 "nbformat": 4,
 "nbformat_minor": 5
}
